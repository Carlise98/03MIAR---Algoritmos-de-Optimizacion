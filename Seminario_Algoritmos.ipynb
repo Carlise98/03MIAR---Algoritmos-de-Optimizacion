{
  "nbformat": 4,
  "nbformat_minor": 0,
  "metadata": {
    "colab": {
      "provenance": [],
      "include_colab_link": true
    },
    "kernelspec": {
      "name": "python3",
      "display_name": "Python 3"
    }
  },
  "cells": [
    {
      "cell_type": "markdown",
      "metadata": {
        "id": "view-in-github",
        "colab_type": "text"
      },
      "source": [
        "<a href=\"https://colab.research.google.com/github/Carlise98/03MIAR---Algoritmos-de-Optimizacion/blob/main/Copia_de_Seminario_Algoritmos.ipynb\" target=\"_parent\"><img src=\"https://colab.research.google.com/assets/colab-badge.svg\" alt=\"Open In Colab\"/></a>"
      ]
    },
    {
      "cell_type": "markdown",
      "metadata": {
        "id": "hVbXYX-RfPWh"
      },
      "source": [
        "# Algoritmos de optimización - Seminario<br>\n",
        "Nombre y Apellidos:   <br>\n",
        "Url:\n",
        "Problema:\n",
        "\n",
        ">3. Combinar cifras y operaciones\n",
        "\n",
        "Descripción del problema:\n",
        "\n",
        "Disponemos de las 9 cifras del 1 al 9 (excluimos el cero) y de los 4 signos básicos de las\n",
        "operaciones fundamentales: suma(+), resta(-), multiplicación(*) y división(/)\n",
        "\n",
        "• Debemos combinarlos alternativamente sin repetir ninguno de ellos para obtener una cantidad dada.\n",
        "\n",
        "• Debe analizarse el problema para encontrar todos los valores enteros posibles planteando las\n",
        "siguientes cuestiones:\n",
        "- ¿Qué valor máximo y mínimo se pueden obtener según las condiciones del problema?\n",
        "- ¿Es posible encontrar todos los valores enteros posibles entre dicho mínimo y máximo ?\n",
        "\n",
        "(*) La respuesta es obligatoria\n",
        "\n",
        "\n",
        "\n",
        "\n",
        "\n",
        "                                        "
      ]
    },
    {
      "cell_type": "code",
      "metadata": {
        "id": "AiskKkzZfy4e"
      },
      "source": [],
      "execution_count": null,
      "outputs": []
    },
    {
      "cell_type": "markdown",
      "metadata": {
        "id": "3_-exlrTgLd-"
      },
      "source": [
        "**¿Cuantas posibilidades hay sin tener en cuenta las restricciones?<br>**\n",
        "\n",
        "\n",
        "\n",
        "**¿Cuantas posibilidades hay teniendo en cuenta todas las restricciones.**\n",
        "\n",
        "\n"
      ]
    },
    {
      "cell_type": "markdown",
      "metadata": {
        "id": "WfCUqJyKhPcw"
      },
      "source": [
        "Para los números, tenemos 9 opciones para cada uno, ya que podemos repetirlos.\n",
        "\n",
        "Para los signos, tenemos 4 opciones para cada operador, ya que también podemos repetirlos.\n",
        "\n",
        "Por lo tanto, el número total de posibilidades sin tener en cuenta las restricciones es:\n",
        "\n",
        "9 ^ 5 (para las combinaciones de cifras) * 4 ^ 4 (para las combinaciones de operadores) = 59,049 * 256 = 15,086,464\n",
        "\n"
      ]
    },
    {
      "cell_type": "code",
      "metadata": {
        "id": "iq6Fe32MgpDX"
      },
      "source": [],
      "execution_count": null,
      "outputs": []
    },
    {
      "cell_type": "markdown",
      "metadata": {
        "id": "dzynfVJahHoY"
      },
      "source": [
        "Modelo para el espacio de soluciones<br>\n",
        "**¿Cual es la estructura de datos que mejor se adapta al problema? Argumentalo.(Es posible que hayas elegido una al principio y veas la necesidad de cambiar, arguentalo)**\n"
      ]
    },
    {
      "cell_type": "markdown",
      "metadata": {
        "id": "xFIJrOwKi2Ti"
      },
      "source": [
        "En este caso, se han utilizado las listas que son una estructura útil para almacenar las cifras y operadores disponibles en este problema. Como las cifras del 1 al 9 no se repiten y los operadores son un conjunto fijo de 4 elementos, una lista es adecuada para representarlos de manera ordenada. Podemos usar una lista para almacenar las cifras y otra para almacenar los operadores."
      ]
    },
    {
      "cell_type": "code",
      "metadata": {
        "id": "38c-7-ejhJmA"
      },
      "source": [],
      "execution_count": null,
      "outputs": []
    },
    {
      "cell_type": "markdown",
      "metadata": {
        "id": "7Z9U2W7bi-XS"
      },
      "source": [
        "Según el modelo para el espacio de soluciones<br>\n",
        "**¿Cual es la función objetivo?**\n",
        "\n",
        "**¿Es un problema de maximización o minimización?**"
      ]
    },
    {
      "cell_type": "markdown",
      "metadata": {
        "id": "hBalWLM7j1_d"
      },
      "source": [
        "En el problema que estamos abordando, la función objetivo es encontrar una expresión matemática que se ajuste al número objetivo dado utilizando las cifras del 1 al 9 y los operadores básicos (+, -, *, /). En otras palabras, buscamos una combinación de cifras y operadores que al ser evaluada produzca el resultado más cercano al número objetivo.\n",
        "\n",
        "No se especifica si es un problema de maximización o minimización. Sin embargo, dado que el objetivo es encontrar una expresión que se acerque lo más posible al número objetivo dado, se puede considerar como un problema de minimización. Queremos minimizar la diferencia entre el resultado de la expresión y el número objetivo, y encontrar la combinación que produzca la menor diferencia posible."
      ]
    },
    {
      "cell_type": "code",
      "metadata": {
        "id": "pDA-rg3Gj5Lz"
      },
      "source": [],
      "execution_count": null,
      "outputs": []
    },
    {
      "cell_type": "markdown",
      "metadata": {
        "id": "rlnTYgY1j6I2"
      },
      "source": [
        "Diseña un algoritmo para resolver el problema por fuerza bruta"
      ]
    },
    {
      "cell_type": "markdown",
      "metadata": {
        "id": "70rDgxYXkC8r"
      },
      "source": [
        "Respuesta"
      ]
    },
    {
      "cell_type": "code",
      "metadata": {
        "id": "CJb5sQ0qkENy",
        "colab": {
          "base_uri": "https://localhost:8080/"
        },
        "outputId": "f54a7d67-b0c3-4c66-87e4-2f05299b5076"
      },
      "source": [
        "from itertools import permutations\n",
        "\n",
        "def encontrar_expresion_para_numero_objetivo(cifras, operadores, objetivo):\n",
        "    permutaciones_cifras = list(permutations(cifras, 5))\n",
        "    permutaciones_operadores = list(permutations(operadores))\n",
        "\n",
        "    for permutacion_cifras in permutaciones_cifras:\n",
        "        for permutacion_operadores in permutaciones_operadores:\n",
        "            expresion = permutacion_cifras[0] + permutacion_operadores[0] + permutacion_cifras[1] + permutacion_operadores[1] + permutacion_cifras[2] + permutacion_operadores[2] + permutacion_cifras[3] + permutacion_operadores[3] + permutacion_cifras[4]\n",
        "\n",
        "            if eval(expresion) == objetivo:\n",
        "                # print(\"La expresión\", expresion, \"obtiene el valor objetivo como resultado, siendo el objetivo\", objetivo)\n",
        "                return expresion\n",
        "\n",
        "    return None\n",
        "\n",
        "cifras = ['1', '2', '3', '4', '5', '6', '7', '8', '9']\n",
        "operadores = ['+', '-', '*', '/']\n",
        "numero_objetivo = -69\n",
        "\n",
        "expresion_encontrada = encontrar_expresion_para_numero_objetivo(cifras, operadores, numero_objetivo)\n",
        "\n",
        "if expresion_encontrada:\n",
        "    print(f\"Se encontró una expresión que obtiene el valor objetivo {numero_objetivo}: {expresion_encontrada}\")\n",
        "else:\n",
        "    print(f\"No se encontró ninguna expresión que obtenga el valor objetivo {numero_objetivo}.\")\n"
      ],
      "execution_count": null,
      "outputs": [
        {
          "output_type": "stream",
          "name": "stdout",
          "text": [
            "Se encontró una expresión que obtiene el valor objetivo -69: 1+4/2-8*9\n"
          ]
        }
      ]
    },
    {
      "cell_type": "markdown",
      "metadata": {
        "id": "tgrnsC2nkFa8"
      },
      "source": [
        "**Calcula la complejidad del algoritmo por fuerza bruta**"
      ]
    },
    {
      "cell_type": "markdown",
      "metadata": {
        "id": "9eUd3xwckP68"
      },
      "source": [
        "\n",
        "El algoritmo de fuerza bruta tiene una complejidad de O(n!) debido a que genera todas las permutaciones posibles tanto de los números como de los signos. Para cada uno de los n elementos, se crean n-1 ramas adicionales, y de cada una de estas ramas se crean otras subramas, y así sucesivamente, hasta llegar a lo que se podría denominar como una hoja o nodo final. En este caso, la hoja o nodo final corresponde a la combinación completa de números y símbolos que se evalúa para verificar si produce el resultado deseado.\n",
        "\n",
        "Este proceso de generación de permutaciones y combinaciones crea un árbol de posibilidades que crece de manera exponencial con respecto al número de elementos. Por ejemplo, si tenemos 5 elementos (n=5), el número total de combinaciones posibles sería 5! = 5x4x3x2x1 = 120. A medida que aumenta el número de elementos, el número de combinaciones aumenta drásticamente.\n",
        "\n",
        "Debido a esta alta complejidad, el algoritmo de fuerza bruta no es eficiente para resolver problemas con un gran número de elementos, ya que el tiempo de ejecución aumenta rápidamente y puede volverse impracticable para tamaños significativos de entrada. Para problemas más grandes, es necesario utilizar enfoques más eficientes, como algoritmos de programación dinámica o métodos heurísticos, para obtener soluciones en tiempos razonables."
      ]
    },
    {
      "cell_type": "code",
      "metadata": {
        "id": "rvZWwL-ckRST"
      },
      "source": [],
      "execution_count": null,
      "outputs": []
    },
    {
      "cell_type": "markdown",
      "metadata": {
        "id": "txbrmLmskReM"
      },
      "source": [
        "**Diseña un algoritmo que mejore la complejidad del algortimo por fuerza bruta. Argumenta porque crees que mejora el algoritmo por fuerza bruta**"
      ]
    },
    {
      "cell_type": "markdown",
      "metadata": {
        "id": "hLrVwt5QkZPD"
      },
      "source": [
        "Mejora utilizando una técnica llamada \"Búsqueda Aleatoria\" o \"Random Search\". Esta técnica elige aleatoriamente combinaciones de cifras y operadores y evalúa si producen el resultado deseado. Si no se encuentra una solución después de un número determinado de iteraciones, el algoritmo puede detenerse.\n",
        "\n",
        "Con este enfoque, el algoritmo realiza una búsqueda aleatoria de expresiones durante un número de intentos (en este caso, 10000 intentos). Si encuentra una expresión que coincide con el número objetivo, la devuelve; de lo contrario, devuelve None, indicando que no se encontró ninguna expresión que coincida."
      ]
    },
    {
      "cell_type": "code",
      "metadata": {
        "id": "m1eyM21Vkabg",
        "colab": {
          "base_uri": "https://localhost:8080/"
        },
        "outputId": "46312e0f-a03c-4b1a-9bd8-62d2a492f445"
      },
      "source": [
        "import random\n",
        "\n",
        "def generar_expresion_aleatoria(cifras, operadores):\n",
        "    numeros_elegidos = random.sample(cifras, 5)\n",
        "    operadores_elegidos = random.sample(operadores, 4)\n",
        "\n",
        "    expresion = numeros_elegidos[0]\n",
        "    for i in range(4):\n",
        "        expresion += operadores_elegidos[i] + numeros_elegidos[i+1]\n",
        "    return expresion\n",
        "\n",
        "def encontrar_expresion_para_numero_objetivo(cifras, operadores, objetivo, intentos=10000):\n",
        "    for _ in range(intentos):\n",
        "        expresion = generar_expresion_aleatoria(cifras, operadores)\n",
        "        if eval(expresion) == objetivo:\n",
        "            return expresion\n",
        "    return None\n",
        "\n",
        "# Parámetros del problema\n",
        "numeros = ['1', '2', '3', '4', '5', '6', '7', '8', '9']\n",
        "operadores = ['+', '-', '*', '/']\n",
        "numero_objetivo = 77\n",
        "\n",
        "# Ejemplo de uso\n",
        "expresion_encontrada = encontrar_expresion_para_numero_objetivo(numeros, operadores, numero_objetivo)\n",
        "\n",
        "if expresion_encontrada:\n",
        "    print(f\"Se encontró una expresión que obtiene el valor objetivo {numero_objetivo}: {expresion_encontrada}\")\n",
        "else:\n",
        "    print(f\"No se encontró ninguna expresión que obtenga el valor objetivo {numero_objetivo}.\")\n"
      ],
      "execution_count": null,
      "outputs": [
        {
          "output_type": "stream",
          "name": "stdout",
          "text": [
            "Se encontró una expresión que obtiene el valor objetivo 77: 7/1-2+9*8\n"
          ]
        }
      ]
    },
    {
      "cell_type": "markdown",
      "metadata": {
        "id": "eGDB4K6uk1iN"
      },
      "source": [
        "**Calcula la complejidad del algoritmo**"
      ]
    },
    {
      "cell_type": "markdown",
      "metadata": {
        "id": "NhpTh_BPk1ms"
      },
      "source": [
        "La complejidad del algoritmo de Búsqueda Aleatoria se define por el número de iteraciones que realiza el algoritmo. Si consideramos que el número de iteraciones es \"n\", entonces la complejidad es lineal, es decir, O(n).\n",
        "\n",
        "Cada iteración implica generar una expresión aleatoria y luego evaluar si esa expresión coincide con el número objetivo. Si la solución no se encuentra después de \"n\" iteraciones, el algoritmo devuelve None para indicar que no se encontró ninguna expresión que coincida.\n",
        "\n",
        "Por lo tanto, la complejidad de tiempo del algoritmo de Búsqueda Aleatoria es O(n), donde \"n\" es el número de iteraciones que se realizan hasta encontrar una expresión que coincida con el número objetivo o hasta que se alcance el límite de iteraciones especificado. La complejidad de espacio del algoritmo es O(1) ya que no se requiere almacenar ninguna estructura de datos adicional aparte de las variables necesarias para las iteraciones y la generación de expresiones aleatorias."
      ]
    },
    {
      "cell_type": "markdown",
      "metadata": {
        "id": "3M6QjTsSkmYe"
      },
      "source": [
        "**Según el problema (y tenga sentido), diseña un juego de datos de entrada aleatorios**"
      ]
    },
    {
      "cell_type": "markdown",
      "metadata": {
        "id": "Jc3_OlyNkvjZ"
      },
      "source": [
        "Respuesta"
      ]
    },
    {
      "cell_type": "code",
      "metadata": {
        "id": "sJ-N2etjkyWc"
      },
      "source": [],
      "execution_count": null,
      "outputs": []
    },
    {
      "cell_type": "markdown",
      "metadata": {
        "id": "zy5ZROmjlGo1"
      },
      "source": [
        "Aplica el algoritmo al juego de datos generado"
      ]
    },
    {
      "cell_type": "markdown",
      "metadata": {
        "id": "_Cmj-PVylMsa"
      },
      "source": [
        "Respuesta"
      ]
    },
    {
      "cell_type": "code",
      "metadata": {
        "id": "Jkx8GeiYlUz1"
      },
      "source": [],
      "execution_count": null,
      "outputs": []
    },
    {
      "cell_type": "markdown",
      "metadata": {
        "id": "eTFWUJQrtGcv"
      },
      "source": [
        "Enumera las referencias que has utilizado(si ha sido necesario) para llevar a cabo el trabajo"
      ]
    },
    {
      "cell_type": "markdown",
      "metadata": {
        "id": "YKQ_mRBttWsP"
      },
      "source": [
        "Respuesta"
      ]
    },
    {
      "cell_type": "markdown",
      "metadata": {
        "id": "kAkDPUyRtYyH"
      },
      "source": [
        "Describe brevemente las lineas de como crees que es posible avanzar en el estudio del problema. Ten en cuenta incluso posibles variaciones del problema y/o variaciones al alza del tamaño"
      ]
    },
    {
      "cell_type": "markdown",
      "metadata": {
        "id": "IE0uZmo-tZu-"
      },
      "source": [
        "Respuesta"
      ]
    }
  ]
}
