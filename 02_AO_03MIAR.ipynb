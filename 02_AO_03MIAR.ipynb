{
  "cells": [
    {
      "cell_type": "markdown",
      "metadata": {
        "id": "view-in-github",
        "colab_type": "text"
      },
      "source": [
        "<a href=\"https://colab.research.google.com/github/Carlise98/03MIAR---Algoritmos-de-Optimizacion/blob/main/02_AO_03MIAR.ipynb\" target=\"_parent\"><img src=\"https://colab.research.google.com/assets/colab-badge.svg\" alt=\"Open In Colab\"/></a>"
      ]
    },
    {
      "cell_type": "markdown",
      "id": "5bae1ac7",
      "metadata": {
        "id": "5bae1ac7"
      },
      "source": [
        "<font color=\"#002856\"><h1 align=\"left\">Algoritmos de optimización</h1></font>\n",
        "<font color=\"#002856\"><h2 align=\"left\">VC-2 Diseño de algoritmos</h2></font>\n",
        "\n",
        "#### Profesor: Juan Francisco Vallalta Rueda\n",
        "---"
      ]
    },
    {
      "cell_type": "markdown",
      "id": "d6a8c0a8",
      "metadata": {
        "id": "d6a8c0a8"
      },
      "source": [
        "# Medir el tiempo de ejecución"
      ]
    },
    {
      "cell_type": "markdown",
      "id": "e37d9b38",
      "metadata": {
        "id": "e37d9b38"
      },
      "source": [
        "Medir el tiempo de ejecución de un programa es una tarea muy importante, ya que programar no sólo consiste en crear código que funcione, sino código que pueda ser ejecutado en un tiempo razonable.\n",
        "\n",
        "La librería **time** nos permite medir el tiempo de ejecución en Python, utilizando el método  `time()`."
      ]
    },
    {
      "cell_type": "code",
      "execution_count": null,
      "id": "dc20e4d2",
      "metadata": {
        "id": "dc20e4d2",
        "outputId": "f8edb219-4d4a-4a16-e8f7-fcd6d3ddb2b7"
      },
      "outputs": [
        {
          "name": "stdout",
          "output_type": "stream",
          "text": [
            "10.002641201019287\n"
          ]
        }
      ],
      "source": [
        "# Medida del tiempo de ejecucion con time\n",
        "import time\n",
        "inicio = time.time()\n",
        "\n",
        "# Código a medir\n",
        "time.sleep(10)\n",
        "# -------------\n",
        "\n",
        "fin = time.time()\n",
        "print(fin-inicio) # 1.0005340576171875"
      ]
    },
    {
      "cell_type": "markdown",
      "id": "52b5fc0a",
      "metadata": {
        "id": "52b5fc0a"
      },
      "source": [
        "# Generación de números enteros aleatorios"
      ]
    },
    {
      "cell_type": "code",
      "execution_count": null,
      "id": "ca5148de",
      "metadata": {
        "id": "ca5148de",
        "outputId": "45f571d8-f0f4-49a0-83f3-c1b75b0c4f5a"
      },
      "outputs": [
        {
          "name": "stdout",
          "output_type": "stream",
          "text": [
            "[695, 385, 928, 730, 82, 906, 416, 429, 707, 59, 556, 643, 489, 851, 385, 940, 465, 515, 942, 745, 219, 305, 8, 943, 218, 371, 483, 174, 136, 257, 482, 94, 385, 201, 530, 522, 460, 204, 882, 754, 24, 341, 576, 946, 97, 758, 491, 270, 746, 12, 652, 158, 483, 623, 710, 665, 856, 935, 963, 342, 247, 890, 673, 143, 54, 905, 868, 522, 1, 248, 690, 720, 363, 878, 567, 586, 593, 901, 574, 835, 853, 915, 188, 937, 489, 182, 228, 948, 247, 291, 223, 602, 741, 761, 199, 691, 72, 718, 965, 583]\n"
          ]
        }
      ],
      "source": [
        "# Mödulo random\n",
        "import random\n",
        "\n",
        "# Inicialización del rango de números a generar\n",
        "inicio= 0\n",
        "fin = 1000\n",
        "cantidad = 100\n",
        "\n",
        "# Lista de números aleatorios\n",
        "numeros_aleatorios = [random.randint(inicio,fin) for i in range(cantidad)]\n",
        "print(numeros_aleatorios)"
      ]
    },
    {
      "cell_type": "markdown",
      "id": "c43d5913",
      "metadata": {
        "id": "c43d5913"
      },
      "source": [
        "# Ejercicios\n",
        "\n",
        "## Implementa  una solución para el problema del cambio de moneda en un sistema monetario con las siguientes monedas: {1, 2, 5, 10, 20 , 50}"
      ]
    },
    {
      "cell_type": "code",
      "execution_count": 5,
      "id": "af0a8a64",
      "metadata": {
        "colab": {
          "base_uri": "https://localhost:8080/"
        },
        "id": "af0a8a64",
        "outputId": "66c953de-134e-4414-83a2-205f3aabb6c7"
      },
      "outputs": [
        {
          "output_type": "stream",
          "name": "stdout",
          "text": [
            "Monedas de 5 = 1\n",
            "Monedas de 2 = 1\n"
          ]
        }
      ],
      "source": [
        "# Problema de cambio de monedas\n",
        "\n",
        "def cambio(valor):\n",
        "  monedas = [50, 20, 10, 5, 2, 1]\n",
        "\n",
        "  for moneda in monedas:\n",
        "    if moneda <= valor:\n",
        "      print(f'Monedas de {moneda} = {int(valor/moneda)}')\n",
        "      valor = valor - int(valor/moneda)*moneda\n",
        "\n",
        "\n",
        "\n",
        "cambio(7)\n"
      ]
    },
    {
      "cell_type": "markdown",
      "id": "9cbf8561",
      "metadata": {
        "id": "9cbf8561"
      },
      "source": [
        "# Reto VC-2\n",
        "\n",
        "## Opción 1: Implementa una solución al problema de las 8 reinas en un tablero 8x8"
      ]
    },
    {
      "cell_type": "code",
      "execution_count": 53,
      "id": "288b5db6",
      "metadata": {
        "id": "288b5db6",
        "colab": {
          "base_uri": "https://localhost:8080/"
        },
        "outputId": "a6f69939-b37b-4c27-ac6b-2d433b8bf9d2"
      },
      "outputs": [
        {
          "output_type": "stream",
          "name": "stdout",
          "text": [
            "[[0. 0. 0. 0.]\n",
            " [0. 0. 0. 0.]\n",
            " [0. 0. 0. 0.]\n",
            " [0. 0. 0. 0.]]\n",
            "Q . . . . . . . \n",
            ". . . . . . Q . \n",
            ". . . . Q . . . \n",
            ". . . . . . . Q \n",
            ". Q . . . . . . \n",
            ". . . Q . . . . \n",
            ". . . . . Q . . \n",
            ". . Q . . . . . \n"
          ]
        }
      ],
      "source": [
        "import numpy as np\n",
        "global N\n",
        "N = 4\n",
        "\n",
        "\n",
        "tablero = np.zeros([4,4])\n",
        "print(tablero)\n",
        "# Ocho reinas\n",
        "# Escribe aquí tu código\n",
        "def comprobar(tablero,col,fila):\n",
        "  for i in range(4):\n",
        "    if i != fila and tablero[col][i] == 1:\n",
        "      return False\n",
        "    if i != col and tablero[i][fila] == 1:\n",
        "      return False\n",
        "\n",
        "  print('Inserta')\n",
        "  return True\n",
        "\n",
        "\n",
        "def isSafe(board, row, col,numero):\n",
        "\n",
        "    # Check this row on left side\n",
        "    for i in range(col):\n",
        "        if board[row][i] == 1:\n",
        "            return False\n",
        "\n",
        "    # Check upper diagonal on left side\n",
        "    for i, j in zip(range(row, -1, -1),\n",
        "                    range(col, -1, -1)):\n",
        "        if board[i][j] == 1:\n",
        "            return False\n",
        "\n",
        "    # Check lower diagonal on left side\n",
        "    for i, j in zip(range(row, numero, 1),\n",
        "                    range(col, -1, -1)):\n",
        "        if board[i][j] == 1:\n",
        "            return False\n",
        "\n",
        "    return True\n",
        "\n",
        "\n",
        "\n",
        "def reina(tablero, numero, col):\n",
        "\n",
        "  #Caso base\n",
        "  if col >= numero:\n",
        "    return True\n",
        "\n",
        "\n",
        "  for i in range(numero):\n",
        "\n",
        "    if isSafe(tablero,i,col,numero):\n",
        "\n",
        "      tablero[i][col] = 1\n",
        "\n",
        "      if reina(tablero, numero, col + 1) == True:\n",
        "        return True\n",
        "\n",
        "      tablero[i][col] = 0\n",
        "\n",
        "  return False\n",
        "\n",
        "# def solveNQUtil(board, col):\n",
        "\n",
        "#     # Base case: If all queens are placed\n",
        "#     # then return true\n",
        "#     if col >= N:\n",
        "#         return True\n",
        "\n",
        "#     # Consider this column and try placing\n",
        "#     # this queen in all rows one by one\n",
        "#     for i in range(N):\n",
        "\n",
        "#         if isSafe(board, i, col):\n",
        "\n",
        "#             # Place this queen in board[i][col]\n",
        "#             board[i][col] = 1\n",
        "\n",
        "#             # Recur to place rest of the queens\n",
        "#             if solveNQUtil(board, col + 1) == True:\n",
        "#                 return True\n",
        "\n",
        "#             # If placing queen in board[i][col\n",
        "#             # doesn't lead to a solution, then\n",
        "#             # queen from board[i][col]\n",
        "#             board[i][col] = 0\n",
        "\n",
        "#     # If the queen can not be placed in any row in\n",
        "#     # this column col then return false\n",
        "#     return False\n",
        "\n",
        "\n",
        "def printSolution(board,numero):\n",
        "    for i in range(numero):\n",
        "        for j in range(numero):\n",
        "            if board[i][j] == 1:\n",
        "                print(\"Q\",end=\" \")\n",
        "            else:\n",
        "                print(\".\",end=\" \")\n",
        "        print()\n",
        "\n",
        "\n",
        "numero = 8\n",
        "\n",
        "# tablero = np.zeros([numero,numero])\n",
        "board = [[0 for _ in range(numero)] for _ in range(numero)]\n",
        "\n",
        "# solveNQUtil(tablero,0)\n",
        "reina(board, numero, 0)\n",
        "\n",
        "printSolution(board,numero)"
      ]
    },
    {
      "cell_type": "markdown",
      "id": "e0069a3c",
      "metadata": {
        "id": "e0069a3c"
      },
      "source": [
        "## Opción 2: Implementa una solución del problema de las Torres de Hanoi para un número arbitrario n de fichas"
      ]
    },
    {
      "cell_type": "code",
      "execution_count": 18,
      "id": "f55c9247",
      "metadata": {
        "id": "f55c9247"
      },
      "outputs": [],
      "source": [
        "# Torres de Hanoy\n",
        "# Escribe aquí tu código\n",
        "\n",
        "\n"
      ]
    },
    {
      "cell_type": "code",
      "source": [],
      "metadata": {
        "id": "M60r1tdM6bup"
      },
      "id": "M60r1tdM6bup",
      "execution_count": null,
      "outputs": []
    }
  ],
  "metadata": {
    "kernelspec": {
      "display_name": "Python 3 (ipykernel)",
      "language": "python",
      "name": "python3"
    },
    "language_info": {
      "codemirror_mode": {
        "name": "ipython",
        "version": 3
      },
      "file_extension": ".py",
      "mimetype": "text/x-python",
      "name": "python",
      "nbconvert_exporter": "python",
      "pygments_lexer": "ipython3",
      "version": "3.9.7"
    },
    "colab": {
      "provenance": [],
      "include_colab_link": true
    }
  },
  "nbformat": 4,
  "nbformat_minor": 5
}